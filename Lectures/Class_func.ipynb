{
 "cells": [
  {
   "cell_type": "code",
   "execution_count": null,
   "metadata": {},
   "outputs": [],
   "source": [
    "class MyQueue:\n",
    "    def __init__(self):\n",
    "        self.stack = []\n",
    "        self.stack2 = []\n",
    "    def push(self,x:int):\n",
    "    \n",
    "    def push(self):\n",
    "        pass\n",
    "    def pop(self):\n",
    "        pass\n",
    "    def peek(self):\n",
    "    def emotv(self)"
   ]
  }
 ],
 "metadata": {
  "language_info": {
   "name": "python"
  }
 },
 "nbformat": 4,
 "nbformat_minor": 2
}
